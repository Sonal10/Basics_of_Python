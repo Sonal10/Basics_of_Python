{
 "cells": [
  {
   "cell_type": "code",
   "execution_count": 20,
   "metadata": {
    "collapsed": false
   },
   "outputs": [
    {
     "name": "stdout",
     "output_type": "stream",
     "text": [
      "Please enter a string for checking for palindrome : eye\n",
      "['e', 'y', 'e']\n",
      "This is list 2 after reversal\n",
      "['e', 'y', 'e']\n",
      "Its a palindrome\n"
     ]
    }
   ],
   "source": [
    "string1 = raw_input(\"Please enter a string for checking for palindrome : \")\n",
    "#rev_str = reversed(string1)\n",
    "list1 = [i for i in string1] #using list comprehension\n",
    "#for i in string1:\n",
    "#    list1.append(i)\n",
    "\n",
    "#print list1[:]\n",
    "#print \"This is list 2 after reversal\" \n",
    "\n",
    "list2 = list1[::-1]\n",
    "#print list2[:]\n",
    "\n",
    "if list1 == list2: #To be noted. This comparision takes into account the order of the elements in the list.\n",
    "    print \"Its a palindrome\"\n",
    "else:\n",
    "    print \"Sorry, not a palindrome\"\n",
    "    \n"
   ]
  },
  {
   "cell_type": "code",
   "execution_count": 18,
   "metadata": {
    "collapsed": false
   },
   "outputs": [
    {
     "name": "stdout",
     "output_type": "stream",
     "text": [
      "eye\n",
      "True\n"
     ]
    }
   ],
   "source": [
    "#Second way, found on internet:\n",
    "word = str(raw_input(\"\"))\n",
    "is_palindrome = word.find(word[::-1]) #.find() function\n",
    "if is_palindrome == 0:\n",
    "    print True\n",
    "else:\n",
    "    print False"
   ]
  },
  {
   "cell_type": "code",
   "execution_count": null,
   "metadata": {
    "collapsed": true
   },
   "outputs": [],
   "source": []
  }
 ],
 "metadata": {
  "kernelspec": {
   "display_name": "Python 2",
   "language": "python",
   "name": "python2"
  },
  "language_info": {
   "codemirror_mode": {
    "name": "ipython",
    "version": 2
   },
   "file_extension": ".py",
   "mimetype": "text/x-python",
   "name": "python",
   "nbconvert_exporter": "python",
   "pygments_lexer": "ipython2",
   "version": "2.7.13"
  }
 },
 "nbformat": 4,
 "nbformat_minor": 2
}
